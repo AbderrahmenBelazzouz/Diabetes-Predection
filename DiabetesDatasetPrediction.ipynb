{
  "nbformat": 4,
  "nbformat_minor": 0,
  "metadata": {
    "colab": {
      "name": "DiabetesDatasetPrediction.ipynb",
      "provenance": [],
      "collapsed_sections": [
        "AiI6dKtjeUCA",
        "VLjjab89vXVt",
        "ZtpNX338e5xR",
        "c6JMaMNefKJl",
        "drXiqaXZgVQy",
        "rITfLbu6hCBy",
        "-6Oyz0KIigOr",
        "gZbBjZyqvJQI",
        "o92FrHChpEJv",
        "TRPcXH9Ssddj",
        "rvQRtLUas2ND",
        "UCVVU4NpIG_U",
        "IlaFwqYqI-a3"
      ]
    },
    "kernelspec": {
      "name": "python3",
      "display_name": "Python 3"
    },
    "language_info": {
      "name": "python"
    }
  },
  "cells": [
    {
      "cell_type": "markdown",
      "metadata": {
        "id": "5OJvOHQnUhsp"
      },
      "source": [
        "# Diabetes dataset prediction"
      ]
    },
    {
      "cell_type": "markdown",
      "metadata": {
        "id": "cNXaOcchdj_X"
      },
      "source": [
        "Packages we will be using \n"
      ]
    },
    {
      "cell_type": "code",
      "metadata": {
        "id": "xOZB_hqfagEM"
      },
      "source": [
        "\n",
        "import os\n",
        "import pandas as pd\n",
        "import matplotlib.pyplot as plt\n",
        "import seaborn as sns\n",
        "import numpy as np\n",
        "import itertools\n",
        "plt.style.use('fivethirtyeight')"
      ],
      "execution_count": null,
      "outputs": []
    },
    {
      "cell_type": "markdown",
      "metadata": {
        "id": "f4WTwJlfdvAz"
      },
      "source": [
        "Input data files (diabetes.csv) are available in the \"./input/\" directory.\n",
        "\n",
        "Checking the existence of the file"
      ]
    },
    {
      "cell_type": "code",
      "metadata": {
        "colab": {
          "base_uri": "https://localhost:8080/"
        },
        "id": "YDGLmXtzdyfW",
        "outputId": "32801b89-454d-41cc-e285-eaa087075995"
      },
      "source": [
        "print('\\n'.join(os.listdir('./input')))\n"
      ],
      "execution_count": null,
      "outputs": [
        {
          "output_type": "stream",
          "name": "stdout",
          "text": [
            "diabetes.csv\n"
          ]
        }
      ]
    },
    {
      "cell_type": "markdown",
      "metadata": {
        "id": "P_APNQ2_d8ff"
      },
      "source": [
        "**Reading the diabetes.csv file**"
      ]
    },
    {
      "cell_type": "code",
      "metadata": {
        "id": "WvHbp8kTeJxu"
      },
      "source": [
        "diab = pd.read_csv('./input/diabetes.csv')"
      ],
      "execution_count": null,
      "outputs": []
    },
    {
      "cell_type": "markdown",
      "metadata": {
        "id": "-dXpH6xrt2JS"
      },
      "source": [
        "# **I. Preprocessing**\n"
      ]
    },
    {
      "cell_type": "markdown",
      "metadata": {
        "id": "AiI6dKtjeUCA"
      },
      "source": [
        "#1.Description for the data set\n"
      ]
    },
    {
      "cell_type": "markdown",
      "metadata": {
        "id": "VLjjab89vXVt"
      },
      "source": [
        "## 1.a.Reading the data"
      ]
    },
    {
      "cell_type": "code",
      "metadata": {
        "colab": {
          "base_uri": "https://localhost:8080/"
        },
        "id": "CXnri-aBel-T",
        "outputId": "4ad97ce8-175b-4576-e028-7842d9da457d"
      },
      "source": [
        "diab.head()"
      ],
      "execution_count": null,
      "outputs": [
        {
          "output_type": "execute_result",
          "data": {
            "text/html": [
              "<div>\n",
              "<style scoped>\n",
              "    .dataframe tbody tr th:only-of-type {\n",
              "        vertical-align: middle;\n",
              "    }\n",
              "\n",
              "    .dataframe tbody tr th {\n",
              "        vertical-align: top;\n",
              "    }\n",
              "\n",
              "    .dataframe thead th {\n",
              "        text-align: right;\n",
              "    }\n",
              "</style>\n",
              "<table border=\"1\" class=\"dataframe\">\n",
              "  <thead>\n",
              "    <tr style=\"text-align: right;\">\n",
              "      <th></th>\n",
              "      <th>Pregnancies</th>\n",
              "      <th>Glucose</th>\n",
              "      <th>BloodPressure</th>\n",
              "      <th>SkinThickness</th>\n",
              "      <th>Insulin</th>\n",
              "      <th>BMI</th>\n",
              "      <th>DiabetesPedigreeFunction</th>\n",
              "      <th>Age</th>\n",
              "      <th>Outcome</th>\n",
              "    </tr>\n",
              "  </thead>\n",
              "  <tbody>\n",
              "    <tr>\n",
              "      <th>0</th>\n",
              "      <td>6</td>\n",
              "      <td>148</td>\n",
              "      <td>72</td>\n",
              "      <td>35</td>\n",
              "      <td>0</td>\n",
              "      <td>33.6</td>\n",
              "      <td>0.627</td>\n",
              "      <td>50</td>\n",
              "      <td>1</td>\n",
              "    </tr>\n",
              "    <tr>\n",
              "      <th>1</th>\n",
              "      <td>1</td>\n",
              "      <td>85</td>\n",
              "      <td>66</td>\n",
              "      <td>29</td>\n",
              "      <td>0</td>\n",
              "      <td>26.6</td>\n",
              "      <td>0.351</td>\n",
              "      <td>31</td>\n",
              "      <td>0</td>\n",
              "    </tr>\n",
              "    <tr>\n",
              "      <th>2</th>\n",
              "      <td>8</td>\n",
              "      <td>183</td>\n",
              "      <td>64</td>\n",
              "      <td>0</td>\n",
              "      <td>0</td>\n",
              "      <td>23.3</td>\n",
              "      <td>0.672</td>\n",
              "      <td>32</td>\n",
              "      <td>1</td>\n",
              "    </tr>\n",
              "    <tr>\n",
              "      <th>3</th>\n",
              "      <td>1</td>\n",
              "      <td>89</td>\n",
              "      <td>66</td>\n",
              "      <td>23</td>\n",
              "      <td>94</td>\n",
              "      <td>28.1</td>\n",
              "      <td>0.167</td>\n",
              "      <td>21</td>\n",
              "      <td>0</td>\n",
              "    </tr>\n",
              "    <tr>\n",
              "      <th>4</th>\n",
              "      <td>0</td>\n",
              "      <td>137</td>\n",
              "      <td>40</td>\n",
              "      <td>35</td>\n",
              "      <td>168</td>\n",
              "      <td>43.1</td>\n",
              "      <td>2.288</td>\n",
              "      <td>33</td>\n",
              "      <td>1</td>\n",
              "    </tr>\n",
              "  </tbody>\n",
              "</table>\n",
              "</div>"
            ],
            "text/plain": [
              "   Pregnancies  Glucose  BloodPressure  ...  DiabetesPedigreeFunction  Age  Outcome\n",
              "0            6      148             72  ...                     0.627   50        1\n",
              "1            1       85             66  ...                     0.351   31        0\n",
              "2            8      183             64  ...                     0.672   32        1\n",
              "3            1       89             66  ...                     0.167   21        0\n",
              "4            0      137             40  ...                     2.288   33        1\n",
              "\n",
              "[5 rows x 9 columns]"
            ]
          },
          "metadata": {},
          "execution_count": 4
        }
      ]
    },
    {
      "cell_type": "markdown",
      "metadata": {
        "id": "ZtpNX338e5xR"
      },
      "source": [
        "**bold text**## 1.b.What are the features?"
      ]
    },
    {
      "cell_type": "code",
      "metadata": {
        "colab": {
          "base_uri": "https://localhost:8080/"
        },
        "id": "5zktv1xle3Md",
        "outputId": "37fbc6fe-7f2a-4ee9-ed41-db5efc21ce61"
      },
      "source": [
        "diab.columns"
      ],
      "execution_count": null,
      "outputs": [
        {
          "output_type": "execute_result",
          "data": {
            "text/plain": [
              "Index(['Pregnancies', 'Glucose', 'BloodPressure', 'SkinThickness', 'Insulin',\n",
              "       'BMI', 'DiabetesPedigreeFunction', 'Age', 'Outcome'],\n",
              "      dtype='object')"
            ]
          },
          "metadata": {},
          "execution_count": 5
        }
      ]
    },
    {
      "cell_type": "markdown",
      "metadata": {
        "id": "c6JMaMNefKJl"
      },
      "source": [
        "## 1.c.Number of individuals and features"
      ]
    },
    {
      "cell_type": "code",
      "metadata": {
        "colab": {
          "base_uri": "https://localhost:8080/"
        },
        "id": "Ft0a8DGXfBNg",
        "outputId": "77ae4624-ac13-4df5-d2a2-50ea7c7ca34c"
      },
      "source": [
        "diab.shape"
      ],
      "execution_count": null,
      "outputs": [
        {
          "output_type": "execute_result",
          "data": {
            "text/plain": [
              "(768, 9)"
            ]
          },
          "metadata": {},
          "execution_count": 6
        }
      ]
    },
    {
      "cell_type": "markdown",
      "metadata": {
        "id": "drXiqaXZgVQy"
      },
      "source": [
        "##1.d.Total Description of the dataset"
      ]
    },
    {
      "cell_type": "code",
      "metadata": {
        "colab": {
          "base_uri": "https://localhost:8080/"
        },
        "id": "2kmsjysFgd_l",
        "outputId": "c4ee15b6-57e0-4bca-a285-5bf624c66f2d"
      },
      "source": [
        "diab.describe()"
      ],
      "execution_count": null,
      "outputs": [
        {
          "output_type": "execute_result",
          "data": {
            "text/html": [
              "<div>\n",
              "<style scoped>\n",
              "    .dataframe tbody tr th:only-of-type {\n",
              "        vertical-align: middle;\n",
              "    }\n",
              "\n",
              "    .dataframe tbody tr th {\n",
              "        vertical-align: top;\n",
              "    }\n",
              "\n",
              "    .dataframe thead th {\n",
              "        text-align: right;\n",
              "    }\n",
              "</style>\n",
              "<table border=\"1\" class=\"dataframe\">\n",
              "  <thead>\n",
              "    <tr style=\"text-align: right;\">\n",
              "      <th></th>\n",
              "      <th>Pregnancies</th>\n",
              "      <th>Glucose</th>\n",
              "      <th>BloodPressure</th>\n",
              "      <th>SkinThickness</th>\n",
              "      <th>Insulin</th>\n",
              "      <th>BMI</th>\n",
              "      <th>DiabetesPedigreeFunction</th>\n",
              "      <th>Age</th>\n",
              "      <th>Outcome</th>\n",
              "    </tr>\n",
              "  </thead>\n",
              "  <tbody>\n",
              "    <tr>\n",
              "      <th>count</th>\n",
              "      <td>768.000000</td>\n",
              "      <td>768.000000</td>\n",
              "      <td>768.000000</td>\n",
              "      <td>768.000000</td>\n",
              "      <td>768.000000</td>\n",
              "      <td>768.000000</td>\n",
              "      <td>768.000000</td>\n",
              "      <td>768.000000</td>\n",
              "      <td>768.000000</td>\n",
              "    </tr>\n",
              "    <tr>\n",
              "      <th>mean</th>\n",
              "      <td>3.845052</td>\n",
              "      <td>120.894531</td>\n",
              "      <td>69.105469</td>\n",
              "      <td>20.536458</td>\n",
              "      <td>79.799479</td>\n",
              "      <td>31.992578</td>\n",
              "      <td>0.471876</td>\n",
              "      <td>33.240885</td>\n",
              "      <td>0.348958</td>\n",
              "    </tr>\n",
              "    <tr>\n",
              "      <th>std</th>\n",
              "      <td>3.369578</td>\n",
              "      <td>31.972618</td>\n",
              "      <td>19.355807</td>\n",
              "      <td>15.952218</td>\n",
              "      <td>115.244002</td>\n",
              "      <td>7.884160</td>\n",
              "      <td>0.331329</td>\n",
              "      <td>11.760232</td>\n",
              "      <td>0.476951</td>\n",
              "    </tr>\n",
              "    <tr>\n",
              "      <th>min</th>\n",
              "      <td>0.000000</td>\n",
              "      <td>0.000000</td>\n",
              "      <td>0.000000</td>\n",
              "      <td>0.000000</td>\n",
              "      <td>0.000000</td>\n",
              "      <td>0.000000</td>\n",
              "      <td>0.078000</td>\n",
              "      <td>21.000000</td>\n",
              "      <td>0.000000</td>\n",
              "    </tr>\n",
              "    <tr>\n",
              "      <th>25%</th>\n",
              "      <td>1.000000</td>\n",
              "      <td>99.000000</td>\n",
              "      <td>62.000000</td>\n",
              "      <td>0.000000</td>\n",
              "      <td>0.000000</td>\n",
              "      <td>27.300000</td>\n",
              "      <td>0.243750</td>\n",
              "      <td>24.000000</td>\n",
              "      <td>0.000000</td>\n",
              "    </tr>\n",
              "    <tr>\n",
              "      <th>50%</th>\n",
              "      <td>3.000000</td>\n",
              "      <td>117.000000</td>\n",
              "      <td>72.000000</td>\n",
              "      <td>23.000000</td>\n",
              "      <td>30.500000</td>\n",
              "      <td>32.000000</td>\n",
              "      <td>0.372500</td>\n",
              "      <td>29.000000</td>\n",
              "      <td>0.000000</td>\n",
              "    </tr>\n",
              "    <tr>\n",
              "      <th>75%</th>\n",
              "      <td>6.000000</td>\n",
              "      <td>140.250000</td>\n",
              "      <td>80.000000</td>\n",
              "      <td>32.000000</td>\n",
              "      <td>127.250000</td>\n",
              "      <td>36.600000</td>\n",
              "      <td>0.626250</td>\n",
              "      <td>41.000000</td>\n",
              "      <td>1.000000</td>\n",
              "    </tr>\n",
              "    <tr>\n",
              "      <th>max</th>\n",
              "      <td>17.000000</td>\n",
              "      <td>199.000000</td>\n",
              "      <td>122.000000</td>\n",
              "      <td>99.000000</td>\n",
              "      <td>846.000000</td>\n",
              "      <td>67.100000</td>\n",
              "      <td>2.420000</td>\n",
              "      <td>81.000000</td>\n",
              "      <td>1.000000</td>\n",
              "    </tr>\n",
              "  </tbody>\n",
              "</table>\n",
              "</div>"
            ],
            "text/plain": [
              "       Pregnancies     Glucose  ...         Age     Outcome\n",
              "count   768.000000  768.000000  ...  768.000000  768.000000\n",
              "mean      3.845052  120.894531  ...   33.240885    0.348958\n",
              "std       3.369578   31.972618  ...   11.760232    0.476951\n",
              "min       0.000000    0.000000  ...   21.000000    0.000000\n",
              "25%       1.000000   99.000000  ...   24.000000    0.000000\n",
              "50%       3.000000  117.000000  ...   29.000000    0.000000\n",
              "75%       6.000000  140.250000  ...   41.000000    1.000000\n",
              "max      17.000000  199.000000  ...   81.000000    1.000000\n",
              "\n",
              "[8 rows x 9 columns]"
            ]
          },
          "metadata": {},
          "execution_count": 7
        }
      ]
    },
    {
      "cell_type": "markdown",
      "metadata": {
        "id": "rITfLbu6hCBy"
      },
      "source": [
        "# 2.Checking the existence of missing values"
      ]
    },
    {
      "cell_type": "code",
      "metadata": {
        "colab": {
          "base_uri": "https://localhost:8080/"
        },
        "id": "vENwDBkmhGy_",
        "outputId": "b543a5eb-a443-4327-9104-d8a4b7e27c99"
      },
      "source": [
        "\n",
        "features_with_na = [features for features in diab.columns if diab[features].isnull().sum()>1]\n",
        "\n",
        "\n",
        "#  print the feature name and the percentage of missing values\n",
        "for feature in features_with_na:\n",
        "    print(feature, np.round(diab[feature].isnull().mean(), 4),  ' % missing values')\n",
        "features_with_na"
      ],
      "execution_count": null,
      "outputs": [
        {
          "output_type": "execute_result",
          "data": {
            "text/plain": [
              "[]"
            ]
          },
          "metadata": {},
          "execution_count": 8
        }
      ]
    },
    {
      "cell_type": "markdown",
      "metadata": {
        "id": "4vcfWhMxiH6y"
      },
      "source": [
        "as we can see there are no null values in our dataset"
      ]
    },
    {
      "cell_type": "markdown",
      "metadata": {
        "id": "-6Oyz0KIigOr"
      },
      "source": [
        "# 3.Feature Extraction/ Selection:\n"
      ]
    },
    {
      "cell_type": "markdown",
      "metadata": {
        "id": "gZbBjZyqvJQI"
      },
      "source": [
        "## 3.a.Correlation matrix"
      ]
    },
    {
      "cell_type": "code",
      "metadata": {
        "colab": {
          "base_uri": "https://localhost:8080/"
        },
        "id": "b5JP2lTxig06",
        "outputId": "41bb145d-2477-4cff-848a-97fe0c5e81d5"
      },
      "source": [
        "cbar_kws = { 'ticks' : [-1, 1] }\n",
        "sns.heatmap(diab[diab.columns[:8]].corr(),annot=True,cmap='RdYlGn',vmin=-1, vmax=1)\n",
        "fig=plt.gcf()\n",
        "fig.set_size_inches(10,8)\n",
        "plt.show()"
      ],
      "execution_count": null,
      "outputs": [
        {
          "output_type": "display_data",
          "data": {
            "image/png": "[encoded data removed]",
            "text/plain": [
              "<Figure size 720x576 with 2 Axes>"
            ]
          },
          "metadata": {
            "needs_background": "light"
          }
        }
      ]
    },
    {
      "cell_type": "code",
      "metadata": {
        "id": "mJoEUxgilDi-"
      },
      "source": [
        ""
      ],
      "execution_count": null,
      "outputs": []
    },
    {
      "cell_type": "markdown",
      "metadata": {
        "id": "0jjihyX3mYPl"
      },
      "source": [
        "## 3.b.Feature extraction using Random Forest Classifier\n",
        "(Random forest classifier: ensemble learning methods for classification tasks, the output of the random forest is the class selected by most trees.)"
      ]
    },
    {
      "cell_type": "code",
      "metadata": {
        "id": "77iCqBP1mbBK",
        "colab": {
          "base_uri": "https://localhost:8080/"
        },
        "outputId": "df63fb23-a22d-4962-a4e5-198bdde5779b"
      },
      "source": [
        "from sklearn.ensemble import RandomForestClassifier \n",
        "\n",
        "model= RandomForestClassifier(n_estimators=100,random_state=0)\n",
        "X=diab[diab.columns[:8]]\n",
        "Y=diab['Outcome']\n",
        "model.fit(X,Y)\n",
        "pd.Series(model.feature_importances_,index=X.columns).sort_values(ascending=False)"
      ],
      "execution_count": null,
      "outputs": [
        {
          "output_type": "execute_result",
          "data": {
            "text/plain": [
              "Glucose                     0.242098\n",
              "BMI                         0.172574\n",
              "Age                         0.135220\n",
              "DiabetesPedigreeFunction    0.128324\n",
              "BloodPressure               0.092903\n",
              "Pregnancies                 0.086774\n",
              "SkinThickness               0.073109\n",
              "Insulin                     0.068999\n",
              "dtype: float64"
            ]
          },
          "metadata": {},
          "execution_count": 10
        }
      ]
    },
    {
      "cell_type": "markdown",
      "metadata": {
        "id": "k74xJyF1nhAE"
      },
      "source": [
        "### Observation:    \n",
        "The important features are: Glucose, BMI, Age, DiabetesPedigreeFunction\n",
        "\n",
        "\n"
      ]
    },
    {
      "cell_type": "markdown",
      "metadata": {
        "id": "o92FrHChpEJv"
      },
      "source": [
        "### selecting only the important attributes\n"
      ]
    },
    {
      "cell_type": "code",
      "metadata": {
        "colab": {
          "base_uri": "https://localhost:8080/"
        },
        "id": "NeLNgDEKn6ZA",
        "outputId": "3ca59b2b-0bf1-40e1-d88c-f059dbfc2f7a"
      },
      "source": [
        "diab2=diab[['Glucose','BMI','Age','DiabetesPedigreeFunction','Outcome']]\n",
        "diab2.shape"
      ],
      "execution_count": null,
      "outputs": [
        {
          "output_type": "execute_result",
          "data": {
            "text/plain": [
              "(768, 5)"
            ]
          },
          "metadata": {},
          "execution_count": 11
        }
      ]
    },
    {
      "cell_type": "markdown",
      "metadata": {
        "id": "GsSffLAWrWfm"
      },
      "source": [
        "from now on we will be using diab2 which contains only the important columns."
      ]
    },
    {
      "cell_type": "markdown",
      "metadata": {
        "id": "sZCogTdauNfx"
      },
      "source": [
        "# **II.Training**"
      ]
    },
    {
      "cell_type": "markdown",
      "metadata": {
        "id": "-7t1X2fGwfyO"
      },
      "source": [
        "### Splitting the data (train,test)"
      ]
    },
    {
      "cell_type": "code",
      "metadata": {
        "id": "Drn7nad6wygW"
      },
      "source": [
        "#Let's create numpy arrays for features and target\n",
        "X = diab2.drop('Outcome',axis=1).values\n",
        "Y = diab2['Outcome'].values"
      ],
      "execution_count": null,
      "outputs": []
    },
    {
      "cell_type": "markdown",
      "metadata": {
        "id": "3TwKl-xbxXNv"
      },
      "source": [
        "split the data randomly into training and test set.\n",
        "\n",
        "fit/train a classifier on the training set and make predictions on the test set. Then we will compare the predictions with the known labels.\n",
        "\n",
        "Scikit-learn provides facility to split data into train and test set using train_test_split method.\n",
        "\n",
        " we will  use the stratify argument  to perform our split in such a way that the split reflects best the labels in the data."
      ]
    },
    {
      "cell_type": "code",
      "metadata": {
        "id": "QJhoVdX1xeUI"
      },
      "source": [
        "from sklearn.model_selection import train_test_split\n",
        "\n",
        "X_train,X_test,Y_train,Y_test = train_test_split(X,Y,test_size=0.4,random_state=42, stratify=Y)\n"
      ],
      "execution_count": null,
      "outputs": []
    },
    {
      "cell_type": "markdown",
      "metadata": {
        "id": "0tNiE6eTDIUs"
      },
      "source": [
        "# 1.KNN"
      ]
    },
    {
      "cell_type": "markdown",
      "metadata": {
        "id": "TRPcXH9Ssddj"
      },
      "source": [
        "### finding the best k parameter"
      ]
    },
    {
      "cell_type": "code",
      "metadata": {
        "id": "5b939oqI4iCk",
        "colab": {
          "base_uri": "https://localhost:8080/"
        },
        "outputId": "67f01d12-88bf-4516-b523-81ad3516176b"
      },
      "source": [
        "from sklearn.neighbors import KNeighborsClassifier\n",
        "X=diab2[diab2.columns[:4]]\n",
        "Y=diab2['Outcome']\n",
        "\n",
        "from sklearn.model_selection import GridSearchCV\n",
        "#In case of classifier like knn the parameter to be tuned is n_neighbors\n",
        "param_grid = {'n_neighbors':np.arange(1,50)}\n",
        "knn = KNeighborsClassifier()\n",
        "knn_cv= GridSearchCV(knn,param_grid,cv=5)\n",
        "knn_cv.fit(X,Y)\n",
        "\n",
        "print(\"Best Score:\" + str(knn_cv.best_score_))\n",
        "print(\"Best Parameters: \" + str(knn_cv.best_params_))"
      ],
      "execution_count": null,
      "outputs": [
        {
          "output_type": "stream",
          "name": "stdout",
          "text": [
            "Best Score:0.7682709447415329\n",
            "Best Parameters: {'n_neighbors': 19}\n"
          ]
        }
      ]
    },
    {
      "cell_type": "markdown",
      "metadata": {
        "id": "rvQRtLUas2ND"
      },
      "source": [
        "### predicting for k=19"
      ]
    },
    {
      "cell_type": "code",
      "metadata": {
        "colab": {
          "base_uri": "https://localhost:8080/"
        },
        "id": "AnskhFX9uTzg",
        "outputId": "e174eb5f-fcc0-4bac-efbc-069e7d846e13"
      },
      "source": [
        "from sklearn.neighbors import KNeighborsClassifier\n",
        "from sklearn import preprocessing\n",
        "#creating the knn clasifier\n",
        "#note : knn is a lazy learner algorithm, it does not create a model. \n",
        "#what we mean by model  here is just an object to make the calculations for us each time.\n",
        "\n",
        "modelK = KNeighborsClassifier(n_neighbors=19)\n",
        "\n",
        "#transforming the pandas dataframe into a python list so it can  be given as an argument to the knn model.\n",
        "Row_list =[]\n",
        "Outcoms = []\n",
        "for index, rows in diab2.iterrows():\n",
        "  aRow =[rows.Glucose, rows.BMI, rows.Age,rows.DiabetesPedigreeFunction]\n",
        "  outcom = rows.Outcome\n",
        "\n",
        "  Row_list.append(aRow)\n",
        "  Outcoms.append(outcom)\n",
        "\n",
        "modelK.fit(Row_list,Outcoms)\n",
        "predicted= modelK.predict([[100,21,23,0.5]])\n",
        "\n",
        "print(\"********************\")\n",
        "print(\"outcom for an individual with Glucose level=100,BMI=21,Age=23 and DiabetesPedigreeFunction=0.5 \")\n",
        "print(predicted)\n",
        "print(\"********************\")"
      ],
      "execution_count": null,
      "outputs": [
        {
          "output_type": "stream",
          "name": "stdout",
          "text": [
            "********************\n",
            "outcom for an individual with Glucose level=100,BMI=21,Age=23 and DiabetesPedigreeFunction=0.5 \n",
            "[0.]\n",
            "********************\n"
          ]
        }
      ]
    },
    {
      "cell_type": "markdown",
      "metadata": {
        "id": "IlaFwqYqI-a3"
      },
      "source": [
        "# 2.Naive Bayes\n"
      ]
    },
    {
      "cell_type": "code",
      "metadata": {
        "colab": {
          "base_uri": "https://localhost:8080/"
        },
        "id": "NSLqR7KBMk3l",
        "outputId": "451879b8-1ff0-4c17-b3c9-c9eb8662eadf"
      },
      "source": [
        "from sklearn.naive_bayes import GaussianNB\n",
        "modelB = GaussianNB()\n",
        "modelB.fit(X_train,Y_train)\n"
      ],
      "execution_count": null,
      "outputs": [
        {
          "output_type": "execute_result",
          "data": {
            "text/plain": [
              "GaussianNB()"
            ]
          },
          "metadata": {},
          "execution_count": 16
        }
      ]
    },
    {
      "cell_type": "markdown",
      "metadata": {
        "id": "9e2uN0sjSqi4"
      },
      "source": [
        "# III.**Evaluation**"
      ]
    },
    {
      "cell_type": "markdown",
      "metadata": {
        "id": "r7wem-zmS2DX"
      },
      "source": [
        "# 1.KNN Evaluation\n"
      ]
    },
    {
      "cell_type": "code",
      "metadata": {
        "colab": {
          "base_uri": "https://localhost:8080/"
        },
        "id": "T0dFi4e2S1oq",
        "outputId": "d0645c2a-fd07-40ba-f8b4-8d0188396a69"
      },
      "source": [
        "from sklearn.metrics import confusion_matrix\n",
        "\n",
        "Y_pred = modelK.predict(X_test)\n",
        "print(confusion_matrix(Y_test,Y_pred))\n",
        "modelK.score(X_test,Y_test)"
      ],
      "execution_count": null,
      "outputs": [
        {
          "output_type": "stream",
          "name": "stdout",
          "text": [
            "[[173  28]\n",
            " [ 46  61]]\n"
          ]
        },
        {
          "output_type": "execute_result",
          "data": {
            "text/plain": [
              "0.7597402597402597"
            ]
          },
          "metadata": {},
          "execution_count": 17
        }
      ]
    },
    {
      "cell_type": "code",
      "metadata": {
        "id": "_ooHjUXCUaZ1"
      },
      "source": [
        ""
      ],
      "execution_count": null,
      "outputs": []
    },
    {
      "cell_type": "markdown",
      "metadata": {
        "id": "KQMoBu16TH0a"
      },
      "source": [
        "# 2.NaiveBayes Evaluation"
      ]
    },
    {
      "cell_type": "code",
      "metadata": {
        "colab": {
          "base_uri": "https://localhost:8080/"
        },
        "id": "PyimfiYgTd68",
        "outputId": "a97f3fad-f4da-4114-a074-c48298a94487"
      },
      "source": [
        "from sklearn import metrics\n",
        "\n",
        "Y_pred= modelB.predict(X_test)\n",
        "acc= metrics.accuracy_score(Y_test,Y_pred)\n",
        "print(acc)\n",
        "print(confusion_matrix(Y_test,Y_pred))"
      ],
      "execution_count": null,
      "outputs": [
        {
          "output_type": "stream",
          "name": "stdout",
          "text": [
            "0.7597402597402597\n",
            "[[175  26]\n",
            " [ 48  59]]\n"
          ]
        }
      ]
    }
  ]
}